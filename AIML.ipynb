{
  "nbformat": 4,
  "nbformat_minor": 0,
  "metadata": {
    "colab": {
      "provenance": [],
      "authorship_tag": "ABX9TyMMFAPWr0mgJNSs02y6SQ3g",
      "include_colab_link": true
    },
    "kernelspec": {
      "name": "python3",
      "display_name": "Python 3"
    },
    "language_info": {
      "name": "python"
    }
  },
  "cells": [
    {
      "cell_type": "markdown",
      "metadata": {
        "id": "view-in-github",
        "colab_type": "text"
      },
      "source": [
        "<a href=\"https://colab.research.google.com/github/jaryal2004/jaryal2004/blob/main/AIML.ipynb\" target=\"_parent\"><img src=\"https://colab.research.google.com/assets/colab-badge.svg\" alt=\"Open In Colab\"/></a>"
      ]
    },
    {
      "cell_type": "code",
      "execution_count": 1,
      "metadata": {
        "id": "GlZmv3AsrbMF"
      },
      "outputs": [],
      "source": [
        "import numpy as np\n",
        "import pandas as pd\n",
        "import matplotlib.pyplot as plt\n",
        "import seaborn as sns"
      ]
    },
    {
      "cell_type": "code",
      "source": [
        "df = pd.read_csv('/content/data.csv')\n",
        "print(df)"
      ],
      "metadata": {
        "colab": {
          "base_uri": "https://localhost:8080/"
        },
        "id": "qP3Z1MyFx73j",
        "outputId": "3283833f-849f-405a-cc76-b270bf8d9f5e"
      },
      "execution_count": 14,
      "outputs": [
        {
          "output_type": "stream",
          "name": "stdout",
          "text": [
            "            Price Apartment type  Metro station  Minutes to metro  \\\n",
            "0       6300000.0      Secondary        Опалиха               6.0   \n",
            "1       9000000.0      Secondary        Павшино               2.0   \n",
            "2      11090000.0      Secondary       Мякинино              14.0   \n",
            "3       8300000.0      Secondary       Строгино               8.0   \n",
            "4       6450000.0      Secondary        Опалиха               6.0   \n",
            "...           ...            ...            ...               ...   \n",
            "22671   4768792.0   New building     Котельники               8.0   \n",
            "22672   5900000.0   New building  Домодедовская              25.0   \n",
            "22673   3700000.0   New building     Котельники              30.0   \n",
            "22674   5768869.0   New building       Жулебино              14.0   \n",
            "22675   6839157.0   New building     Котельники               8.0   \n",
            "\n",
            "              Region  Number of rooms   Area  Living area  Kitchen area  \\\n",
            "0      Moscow region              1.0  30.60         11.1           8.5   \n",
            "1      Moscow region              1.0  49.20         20.0          10.0   \n",
            "2      Moscow region              1.0  44.70         16.2          13.1   \n",
            "3      Moscow region              1.0  35.10         16.0          11.0   \n",
            "4      Moscow region              1.0  37.70         15.2           4.0   \n",
            "...              ...              ...    ...          ...           ...   \n",
            "22671  Moscow region              0.0  31.75         13.0           5.0   \n",
            "22672  Moscow region              1.0  31.60         10.1          12.2   \n",
            "22673  Moscow region              0.0  18.00         15.0           8.1   \n",
            "22674  Moscow region              2.0  36.39         22.0           6.6   \n",
            "22675  Moscow region              2.0  56.13         32.0           5.0   \n",
            "\n",
            "       Floor  Number of floors                 Renovation  \n",
            "0       25.0                25                   Cosmetic  \n",
            "1        6.0                15  European-style renovation  \n",
            "2       10.0                25                   Cosmetic  \n",
            "3       12.0                33  European-style renovation  \n",
            "4        5.0                 5         Without renovation  \n",
            "...      ...               ...                        ...  \n",
            "22671    4.0                17                   Cosmetic  \n",
            "22672   11.0                15                   Cosmetic  \n",
            "22673   17.0                17                   Cosmetic  \n",
            "22674   12.0                14                   Cosmetic  \n",
            "22675   10.0                17                   Cosmetic  \n",
            "\n",
            "[22676 rows x 12 columns]\n"
          ]
        }
      ]
    },
    {
      "cell_type": "code",
      "source": [
        "print(df.describe())"
      ],
      "metadata": {
        "colab": {
          "base_uri": "https://localhost:8080/"
        },
        "id": "WA-v7lhjz7vK",
        "outputId": "005077c6-68aa-4911-a88b-0e95236ec03b"
      },
      "execution_count": 15,
      "outputs": [
        {
          "output_type": "stream",
          "name": "stdout",
          "text": [
            "              Price  Minutes to metro  Number of rooms          Area  \\\n",
            "count  2.267600e+04      22676.000000     22676.000000  22676.000000   \n",
            "mean   3.612132e+07         11.888605         2.043129     71.966827   \n",
            "std    8.282561e+07          6.204457         1.523586     68.368608   \n",
            "min    1.150000e+06          0.000000         0.000000      6.000000   \n",
            "25%    7.068116e+06          7.000000         1.000000     37.400000   \n",
            "50%    1.134320e+07         11.000000         2.000000     53.300000   \n",
            "75%    2.479925e+07         15.000000         3.000000     77.140000   \n",
            "max    2.455020e+09         60.000000        12.000000   1117.000000   \n",
            "\n",
            "        Living area  Kitchen area         Floor  Number of floors  \n",
            "count  22676.000000  22676.000000  22676.000000      22676.000000  \n",
            "mean      38.517953     12.594082      9.190466         16.556095  \n",
            "std       38.124278      7.728074      7.549996          9.779297  \n",
            "min        2.000000      1.000000      1.000000          1.000000  \n",
            "25%       17.600000      8.600000      4.000000         11.000000  \n",
            "50%       28.500000     10.600000      8.000000         16.000000  \n",
            "75%       43.200000     14.500000     13.000000         20.000000  \n",
            "max      566.800000    122.000000     92.000000         97.000000  \n"
          ]
        }
      ]
    },
    {
      "cell_type": "code",
      "source": [
        "print(df.head())"
      ],
      "metadata": {
        "colab": {
          "base_uri": "https://localhost:8080/"
        },
        "id": "gMfQYBEO0AKj",
        "outputId": "d7ba435b-692f-4b27-e636-80ecb108d30f"
      },
      "execution_count": 16,
      "outputs": [
        {
          "output_type": "stream",
          "name": "stdout",
          "text": [
            "        Price Apartment type Metro station  Minutes to metro         Region  \\\n",
            "0   6300000.0      Secondary       Опалиха               6.0  Moscow region   \n",
            "1   9000000.0      Secondary       Павшино               2.0  Moscow region   \n",
            "2  11090000.0      Secondary      Мякинино              14.0  Moscow region   \n",
            "3   8300000.0      Secondary      Строгино               8.0  Moscow region   \n",
            "4   6450000.0      Secondary       Опалиха               6.0  Moscow region   \n",
            "\n",
            "   Number of rooms  Area  Living area  Kitchen area  Floor  Number of floors  \\\n",
            "0              1.0  30.6         11.1           8.5   25.0                25   \n",
            "1              1.0  49.2         20.0          10.0    6.0                15   \n",
            "2              1.0  44.7         16.2          13.1   10.0                25   \n",
            "3              1.0  35.1         16.0          11.0   12.0                33   \n",
            "4              1.0  37.7         15.2           4.0    5.0                 5   \n",
            "\n",
            "                  Renovation  \n",
            "0                   Cosmetic  \n",
            "1  European-style renovation  \n",
            "2                   Cosmetic  \n",
            "3  European-style renovation  \n",
            "4         Without renovation  \n"
          ]
        }
      ]
    },
    {
      "cell_type": "code",
      "source": [
        "print(df.shape)"
      ],
      "metadata": {
        "colab": {
          "base_uri": "https://localhost:8080/"
        },
        "id": "73A4fA670TC6",
        "outputId": "4eabe6a4-c1da-4210-d8d3-c6b95d3180d9"
      },
      "execution_count": 18,
      "outputs": [
        {
          "output_type": "stream",
          "name": "stdout",
          "text": [
            "(22676, 12)\n"
          ]
        }
      ]
    },
    {
      "cell_type": "code",
      "source": [
        "data=df['Area']\n",
        "plt.hist(data,bins=30,color='skyblue',edgecolor='black')\n",
        "plt.xlabel('Area')\n",
        "plt.ylabel('Frequency')\n",
        "plt.show()"
      ],
      "metadata": {
        "colab": {
          "base_uri": "https://localhost:8080/",
          "height": 449
        },
        "id": "nCcxvCrk0pUl",
        "outputId": "022f1ad1-ac74-4963-a312-7b43afa20ba0"
      },
      "execution_count": 20,
      "outputs": [
        {
          "output_type": "display_data",
          "data": {
            "text/plain": [
              "<Figure size 640x480 with 1 Axes>"
            ],
            "image/png": "[encoded data removed]"
          },
          "metadata": {}
        }
      ]
    },
    {
      "cell_type": "code",
      "source": [
        "data=df['Area']\n",
        "plt.boxplot(data)\n",
        "plt.title('boxplot of data')\n",
        "plt.xlabel('data')\n",
        "plt.ylabel('values')\n",
        "plt.show()"
      ],
      "metadata": {
        "colab": {
          "base_uri": "https://localhost:8080/",
          "height": 472
        },
        "id": "kiqZPKQD5cCo",
        "outputId": "10f07e2c-e5a4-46f3-acb7-5cb73e347ade"
      },
      "execution_count": 21,
      "outputs": [
        {
          "output_type": "display_data",
          "data": {
            "text/plain": [
              "<Figure size 640x480 with 1 Axes>"
            ],
            "image/png": "[encoded data removed]"
          },
          "metadata": {}
        }
      ]
    },
    {
      "cell_type": "code",
      "source": [
        "print(df.columns)"
      ],
      "metadata": {
        "colab": {
          "base_uri": "https://localhost:8080/"
        },
        "id": "uf_UKvo9ShEw",
        "outputId": "94ce1e3f-2907-4e1d-9099-a1d72add7496"
      },
      "execution_count": 22,
      "outputs": [
        {
          "output_type": "stream",
          "name": "stdout",
          "text": [
            "Index(['Price', 'Apartment type', 'Metro station', 'Minutes to metro',\n",
            "       'Region', 'Number of rooms', 'Area', 'Living area', 'Kitchen area',\n",
            "       'Floor', 'Number of floors', 'Renovation'],\n",
            "      dtype='object')\n"
          ]
        }
      ]
    },
    {
      "cell_type": "code",
      "source": [
        "y=df.Price"
      ],
      "metadata": {
        "id": "mfyuofwuS-1i"
      },
      "execution_count": 29,
      "outputs": []
    },
    {
      "cell_type": "code",
      "source": [
        "df_feature=['Number of rooms','Number of floors']\n",
        "x=df[df_feature]\n",
        "print(x.describe())"
      ],
      "metadata": {
        "colab": {
          "base_uri": "https://localhost:8080/"
        },
        "id": "6hCH2N4pUu2K",
        "outputId": "6459dfc7-599e-4794-e2ae-5d351390a1ec"
      },
      "execution_count": 31,
      "outputs": [
        {
          "output_type": "stream",
          "name": "stdout",
          "text": [
            "       Number of rooms  Number of floors\n",
            "count     22676.000000      22676.000000\n",
            "mean          2.043129         16.556095\n",
            "std           1.523586          9.779297\n",
            "min           0.000000          1.000000\n",
            "25%           1.000000         11.000000\n",
            "50%           2.000000         16.000000\n",
            "75%           3.000000         20.000000\n",
            "max          12.000000         97.000000\n"
          ]
        }
      ]
    },
    {
      "cell_type": "code",
      "source": [
        "x.head()"
      ],
      "metadata": {
        "colab": {
          "base_uri": "https://localhost:8080/",
          "height": 206
        },
        "id": "Lh8Gw5BOVtKb",
        "outputId": "74510f5e-542a-4394-f0a2-c4256e650e79"
      },
      "execution_count": 32,
      "outputs": [
        {
          "output_type": "execute_result",
          "data": {
            "text/plain": [
              "   Number of rooms  Number of floors\n",
              "0              1.0                25\n",
              "1              1.0                15\n",
              "2              1.0                25\n",
              "3              1.0                33\n",
              "4              1.0                 5"
            ],
            "text/html": [
              "\n",
              "  <div id=\"df-014209b3-58d9-47c9-a6d1-680dc0533f3c\" class=\"colab-df-container\">\n",
              "    <div>\n",
              "<style scoped>\n",
              "    .dataframe tbody tr th:only-of-type {\n",
              "        vertical-align: middle;\n",
              "    }\n",
              "\n",
              "    .dataframe tbody tr th {\n",
              "        vertical-align: top;\n",
              "    }\n",
              "\n",
              "    .dataframe thead th {\n",
              "        text-align: right;\n",
              "    }\n",
              "</style>\n",
              "<table border=\"1\" class=\"dataframe\">\n",
              "  <thead>\n",
              "    <tr style=\"text-align: right;\">\n",
              "      <th></th>\n",
              "      <th>Number of rooms</th>\n",
              "      <th>Number of floors</th>\n",
              "    </tr>\n",
              "  </thead>\n",
              "  <tbody>\n",
              "    <tr>\n",
              "      <th>0</th>\n",
              "      <td>1.0</td>\n",
              "      <td>25</td>\n",
              "    </tr>\n",
              "    <tr>\n",
              "      <th>1</th>\n",
              "      <td>1.0</td>\n",
              "      <td>15</td>\n",
              "    </tr>\n",
              "    <tr>\n",
              "      <th>2</th>\n",
              "      <td>1.0</td>\n",
              "      <td>25</td>\n",
              "    </tr>\n",
              "    <tr>\n",
              "      <th>3</th>\n",
              "      <td>1.0</td>\n",
              "      <td>33</td>\n",
              "    </tr>\n",
              "    <tr>\n",
              "      <th>4</th>\n",
              "      <td>1.0</td>\n",
              "      <td>5</td>\n",
              "    </tr>\n",
              "  </tbody>\n",
              "</table>\n",
              "</div>\n",
              "    <div class=\"colab-df-buttons\">\n",
              "\n",
              "  <div class=\"colab-df-container\">\n",
              "    <button class=\"colab-df-convert\" onclick=\"convertToInteractive('df-014209b3-58d9-47c9-a6d1-680dc0533f3c')\"\n",
              "            title=\"Convert this dataframe to an interactive table.\"\n",
              "            style=\"display:none;\">\n",
              "\n",
              "  <svg xmlns=\"http://www.w3.org/2000/svg\" height=\"24px\" viewBox=\"0 -960 960 960\">\n",
              "    <path d=\"M120-120v-720h720v720H120Zm60-500h600v-160H180v160Zm220 220h160v-160H400v160Zm0 220h160v-160H400v160ZM180-400h160v-160H180v160Zm440 0h160v-160H620v160ZM180-180h160v-160H180v160Zm440 0h160v-160H620v160Z\"/>\n",
              "  </svg>\n",
              "    </button>\n",
              "\n",
              "  <style>\n",
              "    .colab-df-container {\n",
              "      display:flex;\n",
              "      gap: 12px;\n",
              "    }\n",
              "\n",
              "    .colab-df-convert {\n",
              "      background-color: #E8F0FE;\n",
              "      border: none;\n",
              "      border-radius: 50%;\n",
              "      cursor: pointer;\n",
              "      display: none;\n",
              "      fill: #1967D2;\n",
              "      height: 32px;\n",
              "      padding: 0 0 0 0;\n",
              "      width: 32px;\n",
              "    }\n",
              "\n",
              "    .colab-df-convert:hover {\n",
              "      background-color: #E2EBFA;\n",
              "      box-shadow: 0px 1px 2px rgba(60, 64, 67, 0.3), 0px 1px 3px 1px rgba(60, 64, 67, 0.15);\n",
              "      fill: #174EA6;\n",
              "    }\n",
              "\n",
              "    .colab-df-buttons div {\n",
              "      margin-bottom: 4px;\n",
              "    }\n",
              "\n",
              "    [theme=dark] .colab-df-convert {\n",
              "      background-color: #3B4455;\n",
              "      fill: #D2E3FC;\n",
              "    }\n",
              "\n",
              "    [theme=dark] .colab-df-convert:hover {\n",
              "      background-color: #434B5C;\n",
              "      box-shadow: 0px 1px 3px 1px rgba(0, 0, 0, 0.15);\n",
              "      filter: drop-shadow(0px 1px 2px rgba(0, 0, 0, 0.3));\n",
              "      fill: #FFFFFF;\n",
              "    }\n",
              "  </style>\n",
              "\n",
              "    <script>\n",
              "      const buttonEl =\n",
              "        document.querySelector('#df-014209b3-58d9-47c9-a6d1-680dc0533f3c button.colab-df-convert');\n",
              "      buttonEl.style.display =\n",
              "        google.colab.kernel.accessAllowed ? 'block' : 'none';\n",
              "\n",
              "      async function convertToInteractive(key) {\n",
              "        const element = document.querySelector('#df-014209b3-58d9-47c9-a6d1-680dc0533f3c');\n",
              "        const dataTable =\n",
              "          await google.colab.kernel.invokeFunction('convertToInteractive',\n",
              "                                                    [key], {});\n",
              "        if (!dataTable) return;\n",
              "\n",
              "        const docLinkHtml = 'Like what you see? Visit the ' +\n",
              "          '<a target=\"_blank\" href=https://colab.research.google.com/notebooks/data_table.ipynb>data table notebook</a>'\n",
              "          + ' to learn more about interactive tables.';\n",
              "        element.innerHTML = '';\n",
              "        dataTable['output_type'] = 'display_data';\n",
              "        await google.colab.output.renderOutput(dataTable, element);\n",
              "        const docLink = document.createElement('div');\n",
              "        docLink.innerHTML = docLinkHtml;\n",
              "        element.appendChild(docLink);\n",
              "      }\n",
              "    </script>\n",
              "  </div>\n",
              "\n",
              "\n",
              "<div id=\"df-d64ad86e-644d-4925-bf8b-9f8d354bfd75\">\n",
              "  <button class=\"colab-df-quickchart\" onclick=\"quickchart('df-d64ad86e-644d-4925-bf8b-9f8d354bfd75')\"\n",
              "            title=\"Suggest charts\"\n",
              "            style=\"display:none;\">\n",
              "\n",
              "<svg xmlns=\"http://www.w3.org/2000/svg\" height=\"24px\"viewBox=\"0 0 24 24\"\n",
              "     width=\"24px\">\n",
              "    <g>\n",
              "        <path d=\"M19 3H5c-1.1 0-2 .9-2 2v14c0 1.1.9 2 2 2h14c1.1 0 2-.9 2-2V5c0-1.1-.9-2-2-2zM9 17H7v-7h2v7zm4 0h-2V7h2v10zm4 0h-2v-4h2v4z\"/>\n",
              "    </g>\n",
              "</svg>\n",
              "  </button>\n",
              "\n",
              "<style>\n",
              "  .colab-df-quickchart {\n",
              "      --bg-color: #E8F0FE;\n",
              "      --fill-color: #1967D2;\n",
              "      --hover-bg-color: #E2EBFA;\n",
              "      --hover-fill-color: #174EA6;\n",
              "      --disabled-fill-color: #AAA;\n",
              "      --disabled-bg-color: #DDD;\n",
              "  }\n",
              "\n",
              "  [theme=dark] .colab-df-quickchart {\n",
              "      --bg-color: #3B4455;\n",
              "      --fill-color: #D2E3FC;\n",
              "      --hover-bg-color: #434B5C;\n",
              "      --hover-fill-color: #FFFFFF;\n",
              "      --disabled-bg-color: #3B4455;\n",
              "      --disabled-fill-color: #666;\n",
              "  }\n",
              "\n",
              "  .colab-df-quickchart {\n",
              "    background-color: var(--bg-color);\n",
              "    border: none;\n",
              "    border-radius: 50%;\n",
              "    cursor: pointer;\n",
              "    display: none;\n",
              "    fill: var(--fill-color);\n",
              "    height: 32px;\n",
              "    padding: 0;\n",
              "    width: 32px;\n",
              "  }\n",
              "\n",
              "  .colab-df-quickchart:hover {\n",
              "    background-color: var(--hover-bg-color);\n",
              "    box-shadow: 0 1px 2px rgba(60, 64, 67, 0.3), 0 1px 3px 1px rgba(60, 64, 67, 0.15);\n",
              "    fill: var(--button-hover-fill-color);\n",
              "  }\n",
              "\n",
              "  .colab-df-quickchart-complete:disabled,\n",
              "  .colab-df-quickchart-complete:disabled:hover {\n",
              "    background-color: var(--disabled-bg-color);\n",
              "    fill: var(--disabled-fill-color);\n",
              "    box-shadow: none;\n",
              "  }\n",
              "\n",
              "  .colab-df-spinner {\n",
              "    border: 2px solid var(--fill-color);\n",
              "    border-color: transparent;\n",
              "    border-bottom-color: var(--fill-color);\n",
              "    animation:\n",
              "      spin 1s steps(1) infinite;\n",
              "  }\n",
              "\n",
              "  @keyframes spin {\n",
              "    0% {\n",
              "      border-color: transparent;\n",
              "      border-bottom-color: var(--fill-color);\n",
              "      border-left-color: var(--fill-color);\n",
              "    }\n",
              "    20% {\n",
              "      border-color: transparent;\n",
              "      border-left-color: var(--fill-color);\n",
              "      border-top-color: var(--fill-color);\n",
              "    }\n",
              "    30% {\n",
              "      border-color: transparent;\n",
              "      border-left-color: var(--fill-color);\n",
              "      border-top-color: var(--fill-color);\n",
              "      border-right-color: var(--fill-color);\n",
              "    }\n",
              "    40% {\n",
              "      border-color: transparent;\n",
              "      border-right-color: var(--fill-color);\n",
              "      border-top-color: var(--fill-color);\n",
              "    }\n",
              "    60% {\n",
              "      border-color: transparent;\n",
              "      border-right-color: var(--fill-color);\n",
              "    }\n",
              "    80% {\n",
              "      border-color: transparent;\n",
              "      border-right-color: var(--fill-color);\n",
              "      border-bottom-color: var(--fill-color);\n",
              "    }\n",
              "    90% {\n",
              "      border-color: transparent;\n",
              "      border-bottom-color: var(--fill-color);\n",
              "    }\n",
              "  }\n",
              "</style>\n",
              "\n",
              "  <script>\n",
              "    async function quickchart(key) {\n",
              "      const quickchartButtonEl =\n",
              "        document.querySelector('#' + key + ' button');\n",
              "      quickchartButtonEl.disabled = true;  // To prevent multiple clicks.\n",
              "      quickchartButtonEl.classList.add('colab-df-spinner');\n",
              "      try {\n",
              "        const charts = await google.colab.kernel.invokeFunction(\n",
              "            'suggestCharts', [key], {});\n",
              "      } catch (error) {\n",
              "        console.error('Error during call to suggestCharts:', error);\n",
              "      }\n",
              "      quickchartButtonEl.classList.remove('colab-df-spinner');\n",
              "      quickchartButtonEl.classList.add('colab-df-quickchart-complete');\n",
              "    }\n",
              "    (() => {\n",
              "      let quickchartButtonEl =\n",
              "        document.querySelector('#df-d64ad86e-644d-4925-bf8b-9f8d354bfd75 button');\n",
              "      quickchartButtonEl.style.display =\n",
              "        google.colab.kernel.accessAllowed ? 'block' : 'none';\n",
              "    })();\n",
              "  </script>\n",
              "</div>\n",
              "\n",
              "    </div>\n",
              "  </div>\n"
            ],
            "application/vnd.google.colaboratory.intrinsic+json": {
              "type": "dataframe",
              "variable_name": "x",
              "summary": "{\n  \"name\": \"x\",\n  \"rows\": 22676,\n  \"fields\": [\n    {\n      \"column\": \"Number of rooms\",\n      \"properties\": {\n        \"dtype\": \"number\",\n        \"std\": 1.5235862577058266,\n        \"min\": 0.0,\n        \"max\": 12.0,\n        \"num_unique_values\": 12,\n        \"samples\": [\n          12.0,\n          9.0,\n          1.0\n        ],\n        \"semantic_type\": \"\",\n        \"description\": \"\"\n      }\n    },\n    {\n      \"column\": \"Number of floors\",\n      \"properties\": {\n        \"dtype\": \"number\",\n        \"std\": 9,\n        \"min\": 1,\n        \"max\": 97,\n        \"num_unique_values\": 83,\n        \"samples\": [\n          27,\n          25,\n          32\n        ],\n        \"semantic_type\": \"\",\n        \"description\": \"\"\n      }\n    }\n  ]\n}"
            }
          },
          "metadata": {},
          "execution_count": 32
        }
      ]
    },
    {
      "cell_type": "code",
      "source": [
        "# Percentage of null values\n",
        "100*df.isnull().sum()[df.isnull().sum()>0]/df.shape[0]"
      ],
      "metadata": {
        "colab": {
          "base_uri": "https://localhost:8080/"
        },
        "id": "PiQjYR1_Xqw0",
        "outputId": "7a7c1f12-2646-49cd-89e0-52a448ef1344"
      },
      "execution_count": 35,
      "outputs": [
        {
          "output_type": "execute_result",
          "data": {
            "text/plain": [
              "Series([], dtype: float64)"
            ]
          },
          "metadata": {},
          "execution_count": 35
        }
      ]
    }
  ]
}